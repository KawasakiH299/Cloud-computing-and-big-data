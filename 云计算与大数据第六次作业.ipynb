{
 "cells": [
  {
   "cell_type": "code",
   "execution_count": 1,
   "id": "21571fa4",
   "metadata": {},
   "outputs": [],
   "source": [
    "import matplotlib"
   ]
  },
  {
   "cell_type": "code",
   "execution_count": 2,
   "id": "ead04e28",
   "metadata": {},
   "outputs": [],
   "source": [
    "from matplotlib import pyplot as plt"
   ]
  },
  {
   "cell_type": "code",
   "execution_count": 230,
   "id": "09f5dfc3",
   "metadata": {},
   "outputs": [],
   "source": [
    "from datascience import *\n",
    "import numpy as np"
   ]
  },
  {
   "cell_type": "code",
   "execution_count": 103,
   "id": "e3de7178",
   "metadata": {},
   "outputs": [],
   "source": [
    "scores=[]\n",
    "# plt.figure(figsize=(20,10),dpi=80)\n",
    "for i in range(5,11):\n",
    "    if(i==9):\n",
    "        score=Table.read_table('20211109-1-utf-8.csv')\n",
    "        score1=Table.read_table('20211109-utf-8.csv')\n",
    "        scores.append(score)\n",
    "        scores.append(score1)\n",
    "    elif(i!=10):\n",
    "        score = Table.read_table('2021110' + str(i) + '-utf-8.csv')\n",
    "        scores.append(score)\n",
    "    else:\n",
    "        score = Table.read_table('20211110-utf-8.csv')\n",
    "        scores.append(score)\n",
    "\n",
    "\n"
   ]
  },
  {
   "cell_type": "code",
   "execution_count": 259,
   "id": "b59cc49d",
   "metadata": {},
   "outputs": [],
   "source": [
    "chiness=[]\n",
    "mathes=[]\n",
    "englishs=[]\n",
    "physicss=[]\n",
    "chemistrys=[]\n",
    "creatures=[]\n",
    "li=[]\n",
    "alls=[]\n",
    "for i in range(64):\n",
    "    chiness.append(sum(chines[i*7:(i+1)*7]))\n",
    "    mathes.append(sum(math[i*7:(i+1)*7]))\n",
    "    englishs.append(sum(english[i*7:(i+1)*7]))\n",
    "    physicss.append(sum(physics[i*7:(i+1)*7]))\n",
    "    chemistrys.append(sum(chemistry[i*7:(i+1)*7]))\n",
    "    creatures.append(sum(creature[i*7:(i+1)*7]))\n",
    "    li.append(sum(li_all[i*7:(i+1)*7]))\n",
    "    alls.append(sum(allscore[i*7:(i+1)*7]))\n",
    "    \n"
   ]
  },
  {
   "cell_type": "code",
   "execution_count": 260,
   "id": "1cd7e1d3",
   "metadata": {},
   "outputs": [],
   "source": [
    "result=Table().with_columns('姓名',name,'语文',chiness,'数学',mathes,'英语',englishs,'物理',physicss,'化学',chemistrys,'生物',creatures,'理综',li,'总分',alls)"
   ]
  },
  {
   "cell_type": "code",
   "execution_count": 249,
   "id": "fa6a002c",
   "metadata": {},
   "outputs": [
    {
     "data": {
      "text/html": [
       "<table border=\"1\" class=\"dataframe\">\n",
       "    <thead>\n",
       "        <tr>\n",
       "            <th>姓名</th> <th>语文</th> <th>数学</th> <th>英语</th> <th>物理</th> <th>化学</th> <th>生物</th> <th>理综</th> <th>总分</th>\n",
       "        </tr>\n",
       "    </thead>\n",
       "    <tbody>\n",
       "        <tr>\n",
       "            <td>杨靖鑫 </td> <td>760 </td> <td>657 </td> <td>682 </td> <td>369 </td> <td>396 </td> <td>433 </td> <td>1198</td> <td>3295</td>\n",
       "        </tr>\n",
       "        <tr>\n",
       "            <td>王绍玮 </td> <td>765 </td> <td>595 </td> <td>708 </td> <td>316 </td> <td>375 </td> <td>366 </td> <td>1057</td> <td>3123</td>\n",
       "        </tr>\n",
       "        <tr>\n",
       "            <td>潘虓虓 </td> <td>745 </td> <td>610 </td> <td>644 </td> <td>300 </td> <td>396 </td> <td>375 </td> <td>1071</td> <td>3068</td>\n",
       "        </tr>\n",
       "        <tr>\n",
       "            <td>陈颖  </td> <td>732 </td> <td>562 </td> <td>660 </td> <td>272 </td> <td>383 </td> <td>368 </td> <td>1023</td> <td>2977</td>\n",
       "        </tr>\n",
       "        <tr>\n",
       "            <td>胥敏捷 </td> <td>753 </td> <td>594 </td> <td>645 </td> <td>320 </td> <td>383 </td> <td>361 </td> <td>1064</td> <td>3055</td>\n",
       "        </tr>\n",
       "        <tr>\n",
       "            <td>赵丹  </td> <td>751 </td> <td>588 </td> <td>661 </td> <td>321 </td> <td>362 </td> <td>396 </td> <td>1079</td> <td>3079</td>\n",
       "        </tr>\n",
       "        <tr>\n",
       "            <td>李欣洁 </td> <td>764 </td> <td>571 </td> <td>597 </td> <td>268 </td> <td>321 </td> <td>339 </td> <td>928 </td> <td>2858</td>\n",
       "        </tr>\n",
       "        <tr>\n",
       "            <td>张然  </td> <td>757 </td> <td>544 </td> <td>614 </td> <td>225 </td> <td>282 </td> <td>339 </td> <td>846 </td> <td>2761</td>\n",
       "        </tr>\n",
       "        <tr>\n",
       "            <td>朱锦  </td> <td>724 </td> <td>441 </td> <td>520 </td> <td>214 </td> <td>314 </td> <td>314 </td> <td>842 </td> <td>2524</td>\n",
       "        </tr>\n",
       "        <tr>\n",
       "            <td>周靖珊 </td> <td>749 </td> <td>636 </td> <td>730 </td> <td>345 </td> <td>371 </td> <td>404 </td> <td>1120</td> <td>3234</td>\n",
       "        </tr>\n",
       "    </tbody>\n",
       "</table>\n",
       "<p>... (54 rows omitted)</p>"
      ],
      "text/plain": [
       "姓名   | 语文   | 数学   | 英语   | 物理   | 化学   | 生物   | 理综   | 总分\n",
       "杨靖鑫  | 760  | 657  | 682  | 369  | 396  | 433  | 1198 | 3295\n",
       "王绍玮  | 765  | 595  | 708  | 316  | 375  | 366  | 1057 | 3123\n",
       "潘虓虓  | 745  | 610  | 644  | 300  | 396  | 375  | 1071 | 3068\n",
       "陈颖   | 732  | 562  | 660  | 272  | 383  | 368  | 1023 | 2977\n",
       "胥敏捷  | 753  | 594  | 645  | 320  | 383  | 361  | 1064 | 3055\n",
       "赵丹   | 751  | 588  | 661  | 321  | 362  | 396  | 1079 | 3079\n",
       "李欣洁  | 764  | 571  | 597  | 268  | 321  | 339  | 928  | 2858\n",
       "张然   | 757  | 544  | 614  | 225  | 282  | 339  | 846  | 2761\n",
       "朱锦   | 724  | 441  | 520  | 214  | 314  | 314  | 842  | 2524\n",
       "周靖珊  | 749  | 636  | 730  | 345  | 371  | 404  | 1120 | 3234\n",
       "... (54 rows omitted)"
      ]
     },
     "execution_count": 249,
     "metadata": {},
     "output_type": "execute_result"
    }
   ],
   "source": [
    "result"
   ]
  },
  {
   "cell_type": "code",
   "execution_count": 261,
   "id": "fbc6e89c",
   "metadata": {},
   "outputs": [
    {
     "data": {
      "text/html": [
       "<table border=\"1\" class=\"dataframe\">\n",
       "    <thead>\n",
       "        <tr>\n",
       "            <th>姓名</th> <th>语文</th>\n",
       "        </tr>\n",
       "    </thead>\n",
       "    <tbody>\n",
       "        <tr>\n",
       "            <td>唐雯婕 </td> <td>743 </td>\n",
       "        </tr>\n",
       "        <tr>\n",
       "            <td>何柃逸 </td> <td>743 </td>\n",
       "        </tr>\n",
       "        <tr>\n",
       "            <td>孙思  </td> <td>719 </td>\n",
       "        </tr>\n",
       "        <tr>\n",
       "            <td>刘欢  </td> <td>716 </td>\n",
       "        </tr>\n",
       "        <tr>\n",
       "            <td>唐杰  </td> <td>715 </td>\n",
       "        </tr>\n",
       "    </tbody>\n",
       "</table>"
      ],
      "text/plain": [
       "姓名   | 语文\n",
       "唐雯婕  | 743\n",
       "何柃逸  | 743\n",
       "孙思   | 719\n",
       "刘欢   | 716\n",
       "唐杰   | 715"
      ]
     },
     "execution_count": 261,
     "metadata": {},
     "output_type": "execute_result"
    }
   ],
   "source": [
    "chines_head=result.select('姓名','语文').sort(\"语文\",descending=\"True\")\n",
    "math_head=result.select('姓名','数学').sort(\"数学\",descending=\"True\")\n",
    "english_head=result.select('姓名','英语').sort(\"英语\",descending=\"True\")\n",
    "physics_head=result.select('姓名','物理').sort(\"物理\",descending=\"True\")\n",
    "chemistry_head=result.select('姓名','化学').sort(\"化学\",descending=\"True\")\n",
    "creature_head=result.select('姓名','生物').sort(\"生物\",descending=\"True\")\n",
    "li_head=result.select('姓名','理综').sort(\"理综\",descending=\"True\")\n",
    "all_head=result.select('姓名','总分').sort(\"总分\",descending=\"True\")\n",
    "chines_head.take(np.arange(5))"
   ]
  },
  {
   "cell_type": "code",
   "execution_count": 262,
   "id": "7afa41d8",
   "metadata": {},
   "outputs": [
    {
     "data": {
      "text/html": [
       "<table border=\"1\" class=\"dataframe\">\n",
       "    <thead>\n",
       "        <tr>\n",
       "            <th>姓名</th> <th>数学</th>\n",
       "        </tr>\n",
       "    </thead>\n",
       "    <tbody>\n",
       "        <tr>\n",
       "            <td>王凤仪 </td> <td>736 </td>\n",
       "        </tr>\n",
       "        <tr>\n",
       "            <td>杨靖鑫 </td> <td>661 </td>\n",
       "        </tr>\n",
       "        <tr>\n",
       "            <td>陈文慧 </td> <td>643 </td>\n",
       "        </tr>\n",
       "        <tr>\n",
       "            <td>赵丹  </td> <td>625 </td>\n",
       "        </tr>\n",
       "        <tr>\n",
       "            <td>胥敏捷 </td> <td>611 </td>\n",
       "        </tr>\n",
       "    </tbody>\n",
       "</table>"
      ],
      "text/plain": [
       "姓名   | 数学\n",
       "王凤仪  | 736\n",
       "杨靖鑫  | 661\n",
       "陈文慧  | 643\n",
       "赵丹   | 625\n",
       "胥敏捷  | 611"
      ]
     },
     "execution_count": 262,
     "metadata": {},
     "output_type": "execute_result"
    }
   ],
   "source": [
    "math_head.take(np.arange(5))"
   ]
  },
  {
   "cell_type": "code",
   "execution_count": 263,
   "id": "c4becb8b",
   "metadata": {},
   "outputs": [
    {
     "data": {
      "text/html": [
       "<table border=\"1\" class=\"dataframe\">\n",
       "    <thead>\n",
       "        <tr>\n",
       "            <th>姓名</th> <th>英语</th>\n",
       "        </tr>\n",
       "    </thead>\n",
       "    <tbody>\n",
       "        <tr>\n",
       "            <td>唐杰  </td> <td>729 </td>\n",
       "        </tr>\n",
       "        <tr>\n",
       "            <td>张然  </td> <td>728 </td>\n",
       "        </tr>\n",
       "        <tr>\n",
       "            <td>潘虓虓 </td> <td>710 </td>\n",
       "        </tr>\n",
       "        <tr>\n",
       "            <td>黄思哲 </td> <td>693 </td>\n",
       "        </tr>\n",
       "        <tr>\n",
       "            <td>李欣洁 </td> <td>685 </td>\n",
       "        </tr>\n",
       "    </tbody>\n",
       "</table>"
      ],
      "text/plain": [
       "姓名   | 英语\n",
       "唐杰   | 729\n",
       "张然   | 728\n",
       "潘虓虓  | 710\n",
       "黄思哲  | 693\n",
       "李欣洁  | 685"
      ]
     },
     "execution_count": 263,
     "metadata": {},
     "output_type": "execute_result"
    }
   ],
   "source": [
    "english_head.take(np.arange(5))"
   ]
  },
  {
   "cell_type": "code",
   "execution_count": 264,
   "id": "892a209f",
   "metadata": {},
   "outputs": [
    {
     "data": {
      "text/html": [
       "<table border=\"1\" class=\"dataframe\">\n",
       "    <thead>\n",
       "        <tr>\n",
       "            <th>姓名</th> <th>物理</th>\n",
       "        </tr>\n",
       "    </thead>\n",
       "    <tbody>\n",
       "        <tr>\n",
       "            <td>杨靖鑫 </td> <td>491 </td>\n",
       "        </tr>\n",
       "        <tr>\n",
       "            <td>刘翔  </td> <td>486 </td>\n",
       "        </tr>\n",
       "        <tr>\n",
       "            <td>王绍玮 </td> <td>464 </td>\n",
       "        </tr>\n",
       "        <tr>\n",
       "            <td>潘虓虓 </td> <td>452 </td>\n",
       "        </tr>\n",
       "        <tr>\n",
       "            <td>王宣  </td> <td>450 </td>\n",
       "        </tr>\n",
       "    </tbody>\n",
       "</table>"
      ],
      "text/plain": [
       "姓名   | 物理\n",
       "杨靖鑫  | 491\n",
       "刘翔   | 486\n",
       "王绍玮  | 464\n",
       "潘虓虓  | 452\n",
       "王宣   | 450"
      ]
     },
     "execution_count": 264,
     "metadata": {},
     "output_type": "execute_result"
    }
   ],
   "source": [
    "physics_head.take(np.arange(5))"
   ]
  },
  {
   "cell_type": "code",
   "execution_count": 265,
   "id": "1002bb35",
   "metadata": {},
   "outputs": [
    {
     "data": {
      "text/html": [
       "<table border=\"1\" class=\"dataframe\">\n",
       "    <thead>\n",
       "        <tr>\n",
       "            <th>姓名</th> <th>化学</th>\n",
       "        </tr>\n",
       "    </thead>\n",
       "    <tbody>\n",
       "        <tr>\n",
       "            <td>刘翔  </td> <td>519 </td>\n",
       "        </tr>\n",
       "        <tr>\n",
       "            <td>王玮博 </td> <td>479 </td>\n",
       "        </tr>\n",
       "        <tr>\n",
       "            <td>杨靖鑫 </td> <td>476 </td>\n",
       "        </tr>\n",
       "        <tr>\n",
       "            <td>王宣  </td> <td>457 </td>\n",
       "        </tr>\n",
       "        <tr>\n",
       "            <td>朱锦  </td> <td>456 </td>\n",
       "        </tr>\n",
       "    </tbody>\n",
       "</table>"
      ],
      "text/plain": [
       "姓名   | 化学\n",
       "刘翔   | 519\n",
       "王玮博  | 479\n",
       "杨靖鑫  | 476\n",
       "王宣   | 457\n",
       "朱锦   | 456"
      ]
     },
     "execution_count": 265,
     "metadata": {},
     "output_type": "execute_result"
    }
   ],
   "source": [
    "chemistry_head.take(np.arange(5))"
   ]
  },
  {
   "cell_type": "code",
   "execution_count": 266,
   "id": "1611dad5",
   "metadata": {},
   "outputs": [
    {
     "data": {
      "text/html": [
       "<table border=\"1\" class=\"dataframe\">\n",
       "    <thead>\n",
       "        <tr>\n",
       "            <th>姓名</th> <th>生物</th>\n",
       "        </tr>\n",
       "    </thead>\n",
       "    <tbody>\n",
       "        <tr>\n",
       "            <td>杨靖鑫 </td> <td>476 </td>\n",
       "        </tr>\n",
       "        <tr>\n",
       "            <td>王绍玮 </td> <td>466 </td>\n",
       "        </tr>\n",
       "        <tr>\n",
       "            <td>胥敏捷 </td> <td>460 </td>\n",
       "        </tr>\n",
       "        <tr>\n",
       "            <td>何柃逸 </td> <td>455 </td>\n",
       "        </tr>\n",
       "        <tr>\n",
       "            <td>王凤仪 </td> <td>447 </td>\n",
       "        </tr>\n",
       "    </tbody>\n",
       "</table>"
      ],
      "text/plain": [
       "姓名   | 生物\n",
       "杨靖鑫  | 476\n",
       "王绍玮  | 466\n",
       "胥敏捷  | 460\n",
       "何柃逸  | 455\n",
       "王凤仪  | 447"
      ]
     },
     "execution_count": 266,
     "metadata": {},
     "output_type": "execute_result"
    }
   ],
   "source": [
    "creature_head.take(np.arange(5))"
   ]
  },
  {
   "cell_type": "code",
   "execution_count": 267,
   "id": "e6532dc5",
   "metadata": {},
   "outputs": [
    {
     "data": {
      "text/html": [
       "<table border=\"1\" class=\"dataframe\">\n",
       "    <thead>\n",
       "        <tr>\n",
       "            <th>姓名</th> <th>理综</th>\n",
       "        </tr>\n",
       "    </thead>\n",
       "    <tbody>\n",
       "        <tr>\n",
       "            <td>刘翔  </td> <td>1445</td>\n",
       "        </tr>\n",
       "        <tr>\n",
       "            <td>杨靖鑫 </td> <td>1443</td>\n",
       "        </tr>\n",
       "        <tr>\n",
       "            <td>王绍玮 </td> <td>1371</td>\n",
       "        </tr>\n",
       "        <tr>\n",
       "            <td>王宣  </td> <td>1330</td>\n",
       "        </tr>\n",
       "        <tr>\n",
       "            <td>潘虓虓 </td> <td>1305</td>\n",
       "        </tr>\n",
       "    </tbody>\n",
       "</table>"
      ],
      "text/plain": [
       "姓名   | 理综\n",
       "刘翔   | 1445\n",
       "杨靖鑫  | 1443\n",
       "王绍玮  | 1371\n",
       "王宣   | 1330\n",
       "潘虓虓  | 1305"
      ]
     },
     "execution_count": 267,
     "metadata": {},
     "output_type": "execute_result"
    }
   ],
   "source": [
    "li_head.take(np.arange(5))"
   ]
  },
  {
   "cell_type": "code",
   "execution_count": 268,
   "id": "c535e3a0",
   "metadata": {},
   "outputs": [
    {
     "data": {
      "text/html": [
       "<table border=\"1\" class=\"dataframe\">\n",
       "    <thead>\n",
       "        <tr>\n",
       "            <th>姓名</th> <th>总分</th>\n",
       "        </tr>\n",
       "    </thead>\n",
       "    <tbody>\n",
       "        <tr>\n",
       "            <td>王凤仪 </td> <td>3374</td>\n",
       "        </tr>\n",
       "        <tr>\n",
       "            <td>杨靖鑫 </td> <td>3352</td>\n",
       "        </tr>\n",
       "        <tr>\n",
       "            <td>潘虓虓 </td> <td>3284</td>\n",
       "        </tr>\n",
       "        <tr>\n",
       "            <td>刘翔  </td> <td>3274</td>\n",
       "        </tr>\n",
       "        <tr>\n",
       "            <td>王绍玮 </td> <td>3238</td>\n",
       "        </tr>\n",
       "    </tbody>\n",
       "</table>"
      ],
      "text/plain": [
       "姓名   | 总分\n",
       "王凤仪  | 3374\n",
       "杨靖鑫  | 3352\n",
       "潘虓虓  | 3284\n",
       "刘翔   | 3274\n",
       "王绍玮  | 3238"
      ]
     },
     "execution_count": 268,
     "metadata": {},
     "output_type": "execute_result"
    }
   ],
   "source": [
    "all_head.take(np.arange(5))"
   ]
  }
 ],
 "metadata": {
  "kernelspec": {
   "display_name": "Python 3 (ipykernel)",
   "language": "python",
   "name": "python3"
  },
  "language_info": {
   "codemirror_mode": {
    "name": "ipython",
    "version": 3
   },
   "file_extension": ".py",
   "mimetype": "text/x-python",
   "name": "python",
   "nbconvert_exporter": "python",
   "pygments_lexer": "ipython3",
   "version": "3.9.7"
  }
 },
 "nbformat": 4,
 "nbformat_minor": 5
}
